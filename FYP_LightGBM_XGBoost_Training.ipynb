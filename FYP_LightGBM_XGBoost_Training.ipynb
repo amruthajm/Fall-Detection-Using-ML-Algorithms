{
  "nbformat": 4,
  "nbformat_minor": 0,
  "metadata": {
    "colab": {
      "name": "FYP_LightGBM_Training (2).ipynb",
      "provenance": []
    },
    "kernelspec": {
      "name": "python3",
      "display_name": "Python 3"
    },
    "language_info": {
      "name": "python"
    },
    "widgets": {
      "application/vnd.jupyter.widget-state+json": {
        "2cc324c6e148416fad4ccf084c04a931": {
          "model_module": "@jupyter-widgets/controls",
          "model_name": "HBoxModel",
          "model_module_version": "1.5.0",
          "state": {
            "_view_name": "HBoxView",
            "_dom_classes": [],
            "_model_name": "HBoxModel",
            "_view_module": "@jupyter-widgets/controls",
            "_model_module_version": "1.5.0",
            "_view_count": null,
            "_view_module_version": "1.5.0",
            "box_style": "",
            "layout": "IPY_MODEL_3ef2efac903c4bb284e8a4a079250436",
            "_model_module": "@jupyter-widgets/controls",
            "children": [
              "IPY_MODEL_1c5a116d80b240b5866c4ffa0c665346",
              "IPY_MODEL_e716142a3ffd40458a928903845aeff8",
              "IPY_MODEL_3722e601357745999b7290ee1a94a8eb"
            ]
          }
        },
        "3ef2efac903c4bb284e8a4a079250436": {
          "model_module": "@jupyter-widgets/base",
          "model_name": "LayoutModel",
          "model_module_version": "1.2.0",
          "state": {
            "_view_name": "LayoutView",
            "grid_template_rows": null,
            "right": null,
            "justify_content": null,
            "_view_module": "@jupyter-widgets/base",
            "overflow": null,
            "_model_module_version": "1.2.0",
            "_view_count": null,
            "flex_flow": null,
            "width": null,
            "min_width": null,
            "border": null,
            "align_items": null,
            "bottom": null,
            "_model_module": "@jupyter-widgets/base",
            "top": null,
            "grid_column": null,
            "overflow_y": null,
            "overflow_x": null,
            "grid_auto_flow": null,
            "grid_area": null,
            "grid_template_columns": null,
            "flex": null,
            "_model_name": "LayoutModel",
            "justify_items": null,
            "grid_row": null,
            "max_height": null,
            "align_content": null,
            "visibility": null,
            "align_self": null,
            "height": null,
            "min_height": null,
            "padding": null,
            "grid_auto_rows": null,
            "grid_gap": null,
            "max_width": null,
            "order": null,
            "_view_module_version": "1.2.0",
            "grid_template_areas": null,
            "object_position": null,
            "object_fit": null,
            "grid_auto_columns": null,
            "margin": null,
            "display": null,
            "left": null
          }
        },
        "1c5a116d80b240b5866c4ffa0c665346": {
          "model_module": "@jupyter-widgets/controls",
          "model_name": "HTMLModel",
          "model_module_version": "1.5.0",
          "state": {
            "_view_name": "HTMLView",
            "style": "IPY_MODEL_dba549b75e964db6894de21e7bd9f1cf",
            "_dom_classes": [],
            "description": "",
            "_model_name": "HTMLModel",
            "placeholder": "​",
            "_view_module": "@jupyter-widgets/controls",
            "_model_module_version": "1.5.0",
            "value": "100%",
            "_view_count": null,
            "_view_module_version": "1.5.0",
            "description_tooltip": null,
            "_model_module": "@jupyter-widgets/controls",
            "layout": "IPY_MODEL_029b3426fde648d9bb5c63e7c428ff0e"
          }
        },
        "e716142a3ffd40458a928903845aeff8": {
          "model_module": "@jupyter-widgets/controls",
          "model_name": "FloatProgressModel",
          "model_module_version": "1.5.0",
          "state": {
            "_view_name": "ProgressView",
            "style": "IPY_MODEL_a3334ea237a14d3b95ca3d1e655247aa",
            "_dom_classes": [],
            "description": "",
            "_model_name": "FloatProgressModel",
            "bar_style": "success",
            "max": 5,
            "_view_module": "@jupyter-widgets/controls",
            "_model_module_version": "1.5.0",
            "value": 5,
            "_view_count": null,
            "_view_module_version": "1.5.0",
            "orientation": "horizontal",
            "min": 0,
            "description_tooltip": null,
            "_model_module": "@jupyter-widgets/controls",
            "layout": "IPY_MODEL_35a7bdb8dd6e4b9e8fa5366813377686"
          }
        },
        "3722e601357745999b7290ee1a94a8eb": {
          "model_module": "@jupyter-widgets/controls",
          "model_name": "HTMLModel",
          "model_module_version": "1.5.0",
          "state": {
            "_view_name": "HTMLView",
            "style": "IPY_MODEL_d5271dd003954017b5e98f0477d37449",
            "_dom_classes": [],
            "description": "",
            "_model_name": "HTMLModel",
            "placeholder": "​",
            "_view_module": "@jupyter-widgets/controls",
            "_model_module_version": "1.5.0",
            "value": " 5/5 [00:02&lt;00:00,  1.68it/s]",
            "_view_count": null,
            "_view_module_version": "1.5.0",
            "description_tooltip": null,
            "_model_module": "@jupyter-widgets/controls",
            "layout": "IPY_MODEL_dc68820184554be0b1445d1336028aee"
          }
        },
        "dba549b75e964db6894de21e7bd9f1cf": {
          "model_module": "@jupyter-widgets/controls",
          "model_name": "DescriptionStyleModel",
          "model_module_version": "1.5.0",
          "state": {
            "_view_name": "StyleView",
            "_model_name": "DescriptionStyleModel",
            "description_width": "",
            "_view_module": "@jupyter-widgets/base",
            "_model_module_version": "1.5.0",
            "_view_count": null,
            "_view_module_version": "1.2.0",
            "_model_module": "@jupyter-widgets/controls"
          }
        },
        "029b3426fde648d9bb5c63e7c428ff0e": {
          "model_module": "@jupyter-widgets/base",
          "model_name": "LayoutModel",
          "model_module_version": "1.2.0",
          "state": {
            "_view_name": "LayoutView",
            "grid_template_rows": null,
            "right": null,
            "justify_content": null,
            "_view_module": "@jupyter-widgets/base",
            "overflow": null,
            "_model_module_version": "1.2.0",
            "_view_count": null,
            "flex_flow": null,
            "width": null,
            "min_width": null,
            "border": null,
            "align_items": null,
            "bottom": null,
            "_model_module": "@jupyter-widgets/base",
            "top": null,
            "grid_column": null,
            "overflow_y": null,
            "overflow_x": null,
            "grid_auto_flow": null,
            "grid_area": null,
            "grid_template_columns": null,
            "flex": null,
            "_model_name": "LayoutModel",
            "justify_items": null,
            "grid_row": null,
            "max_height": null,
            "align_content": null,
            "visibility": null,
            "align_self": null,
            "height": null,
            "min_height": null,
            "padding": null,
            "grid_auto_rows": null,
            "grid_gap": null,
            "max_width": null,
            "order": null,
            "_view_module_version": "1.2.0",
            "grid_template_areas": null,
            "object_position": null,
            "object_fit": null,
            "grid_auto_columns": null,
            "margin": null,
            "display": null,
            "left": null
          }
        },
        "a3334ea237a14d3b95ca3d1e655247aa": {
          "model_module": "@jupyter-widgets/controls",
          "model_name": "ProgressStyleModel",
          "model_module_version": "1.5.0",
          "state": {
            "_view_name": "StyleView",
            "_model_name": "ProgressStyleModel",
            "description_width": "",
            "_view_module": "@jupyter-widgets/base",
            "_model_module_version": "1.5.0",
            "_view_count": null,
            "_view_module_version": "1.2.0",
            "bar_color": null,
            "_model_module": "@jupyter-widgets/controls"
          }
        },
        "35a7bdb8dd6e4b9e8fa5366813377686": {
          "model_module": "@jupyter-widgets/base",
          "model_name": "LayoutModel",
          "model_module_version": "1.2.0",
          "state": {
            "_view_name": "LayoutView",
            "grid_template_rows": null,
            "right": null,
            "justify_content": null,
            "_view_module": "@jupyter-widgets/base",
            "overflow": null,
            "_model_module_version": "1.2.0",
            "_view_count": null,
            "flex_flow": null,
            "width": null,
            "min_width": null,
            "border": null,
            "align_items": null,
            "bottom": null,
            "_model_module": "@jupyter-widgets/base",
            "top": null,
            "grid_column": null,
            "overflow_y": null,
            "overflow_x": null,
            "grid_auto_flow": null,
            "grid_area": null,
            "grid_template_columns": null,
            "flex": null,
            "_model_name": "LayoutModel",
            "justify_items": null,
            "grid_row": null,
            "max_height": null,
            "align_content": null,
            "visibility": null,
            "align_self": null,
            "height": null,
            "min_height": null,
            "padding": null,
            "grid_auto_rows": null,
            "grid_gap": null,
            "max_width": null,
            "order": null,
            "_view_module_version": "1.2.0",
            "grid_template_areas": null,
            "object_position": null,
            "object_fit": null,
            "grid_auto_columns": null,
            "margin": null,
            "display": null,
            "left": null
          }
        },
        "d5271dd003954017b5e98f0477d37449": {
          "model_module": "@jupyter-widgets/controls",
          "model_name": "DescriptionStyleModel",
          "model_module_version": "1.5.0",
          "state": {
            "_view_name": "StyleView",
            "_model_name": "DescriptionStyleModel",
            "description_width": "",
            "_view_module": "@jupyter-widgets/base",
            "_model_module_version": "1.5.0",
            "_view_count": null,
            "_view_module_version": "1.2.0",
            "_model_module": "@jupyter-widgets/controls"
          }
        },
        "dc68820184554be0b1445d1336028aee": {
          "model_module": "@jupyter-widgets/base",
          "model_name": "LayoutModel",
          "model_module_version": "1.2.0",
          "state": {
            "_view_name": "LayoutView",
            "grid_template_rows": null,
            "right": null,
            "justify_content": null,
            "_view_module": "@jupyter-widgets/base",
            "overflow": null,
            "_model_module_version": "1.2.0",
            "_view_count": null,
            "flex_flow": null,
            "width": null,
            "min_width": null,
            "border": null,
            "align_items": null,
            "bottom": null,
            "_model_module": "@jupyter-widgets/base",
            "top": null,
            "grid_column": null,
            "overflow_y": null,
            "overflow_x": null,
            "grid_auto_flow": null,
            "grid_area": null,
            "grid_template_columns": null,
            "flex": null,
            "_model_name": "LayoutModel",
            "justify_items": null,
            "grid_row": null,
            "max_height": null,
            "align_content": null,
            "visibility": null,
            "align_self": null,
            "height": null,
            "min_height": null,
            "padding": null,
            "grid_auto_rows": null,
            "grid_gap": null,
            "max_width": null,
            "order": null,
            "_view_module_version": "1.2.0",
            "grid_template_areas": null,
            "object_position": null,
            "object_fit": null,
            "grid_auto_columns": null,
            "margin": null,
            "display": null,
            "left": null
          }
        },
        "32b5640e9ac644f5a100c572eb3fa3bf": {
          "model_module": "@jupyter-widgets/controls",
          "model_name": "HBoxModel",
          "model_module_version": "1.5.0",
          "state": {
            "_view_name": "HBoxView",
            "_dom_classes": [],
            "_model_name": "HBoxModel",
            "_view_module": "@jupyter-widgets/controls",
            "_model_module_version": "1.5.0",
            "_view_count": null,
            "_view_module_version": "1.5.0",
            "box_style": "",
            "layout": "IPY_MODEL_01b0e561087646749cec4d29a5e4abbd",
            "_model_module": "@jupyter-widgets/controls",
            "children": [
              "IPY_MODEL_b18efee933284deeaaca3e5bd38d9cc0",
              "IPY_MODEL_56fac572724b4f89997337a94d39c7a9",
              "IPY_MODEL_fa4aa6cea9ff40ac8d85634b654029ba"
            ]
          }
        },
        "01b0e561087646749cec4d29a5e4abbd": {
          "model_module": "@jupyter-widgets/base",
          "model_name": "LayoutModel",
          "model_module_version": "1.2.0",
          "state": {
            "_view_name": "LayoutView",
            "grid_template_rows": null,
            "right": null,
            "justify_content": null,
            "_view_module": "@jupyter-widgets/base",
            "overflow": null,
            "_model_module_version": "1.2.0",
            "_view_count": null,
            "flex_flow": null,
            "width": null,
            "min_width": null,
            "border": null,
            "align_items": null,
            "bottom": null,
            "_model_module": "@jupyter-widgets/base",
            "top": null,
            "grid_column": null,
            "overflow_y": null,
            "overflow_x": null,
            "grid_auto_flow": null,
            "grid_area": null,
            "grid_template_columns": null,
            "flex": null,
            "_model_name": "LayoutModel",
            "justify_items": null,
            "grid_row": null,
            "max_height": null,
            "align_content": null,
            "visibility": null,
            "align_self": null,
            "height": null,
            "min_height": null,
            "padding": null,
            "grid_auto_rows": null,
            "grid_gap": null,
            "max_width": null,
            "order": null,
            "_view_module_version": "1.2.0",
            "grid_template_areas": null,
            "object_position": null,
            "object_fit": null,
            "grid_auto_columns": null,
            "margin": null,
            "display": null,
            "left": null
          }
        },
        "b18efee933284deeaaca3e5bd38d9cc0": {
          "model_module": "@jupyter-widgets/controls",
          "model_name": "HTMLModel",
          "model_module_version": "1.5.0",
          "state": {
            "_view_name": "HTMLView",
            "style": "IPY_MODEL_983210f0cd844b22a8c3e0db852e9d4e",
            "_dom_classes": [],
            "description": "",
            "_model_name": "HTMLModel",
            "placeholder": "​",
            "_view_module": "@jupyter-widgets/controls",
            "_model_module_version": "1.5.0",
            "value": "100%",
            "_view_count": null,
            "_view_module_version": "1.5.0",
            "description_tooltip": null,
            "_model_module": "@jupyter-widgets/controls",
            "layout": "IPY_MODEL_56a185c50ee9479ebe9fa7ace8ba73cd"
          }
        },
        "56fac572724b4f89997337a94d39c7a9": {
          "model_module": "@jupyter-widgets/controls",
          "model_name": "FloatProgressModel",
          "model_module_version": "1.5.0",
          "state": {
            "_view_name": "ProgressView",
            "style": "IPY_MODEL_ca8cb78ae3a3448d8eedc630ada4bb91",
            "_dom_classes": [],
            "description": "",
            "_model_name": "FloatProgressModel",
            "bar_style": "success",
            "max": 5,
            "_view_module": "@jupyter-widgets/controls",
            "_model_module_version": "1.5.0",
            "value": 5,
            "_view_count": null,
            "_view_module_version": "1.5.0",
            "orientation": "horizontal",
            "min": 0,
            "description_tooltip": null,
            "_model_module": "@jupyter-widgets/controls",
            "layout": "IPY_MODEL_e7f75f5226e64a33b44f0207334ee9c1"
          }
        },
        "fa4aa6cea9ff40ac8d85634b654029ba": {
          "model_module": "@jupyter-widgets/controls",
          "model_name": "HTMLModel",
          "model_module_version": "1.5.0",
          "state": {
            "_view_name": "HTMLView",
            "style": "IPY_MODEL_334fdebae1c74517aa46fff1880f56de",
            "_dom_classes": [],
            "description": "",
            "_model_name": "HTMLModel",
            "placeholder": "​",
            "_view_module": "@jupyter-widgets/controls",
            "_model_module_version": "1.5.0",
            "value": " 5/5 [00:41&lt;00:00,  8.09s/it]",
            "_view_count": null,
            "_view_module_version": "1.5.0",
            "description_tooltip": null,
            "_model_module": "@jupyter-widgets/controls",
            "layout": "IPY_MODEL_dd43ddd4550a490ba939839cc2fe8e8e"
          }
        },
        "983210f0cd844b22a8c3e0db852e9d4e": {
          "model_module": "@jupyter-widgets/controls",
          "model_name": "DescriptionStyleModel",
          "model_module_version": "1.5.0",
          "state": {
            "_view_name": "StyleView",
            "_model_name": "DescriptionStyleModel",
            "description_width": "",
            "_view_module": "@jupyter-widgets/base",
            "_model_module_version": "1.5.0",
            "_view_count": null,
            "_view_module_version": "1.2.0",
            "_model_module": "@jupyter-widgets/controls"
          }
        },
        "56a185c50ee9479ebe9fa7ace8ba73cd": {
          "model_module": "@jupyter-widgets/base",
          "model_name": "LayoutModel",
          "model_module_version": "1.2.0",
          "state": {
            "_view_name": "LayoutView",
            "grid_template_rows": null,
            "right": null,
            "justify_content": null,
            "_view_module": "@jupyter-widgets/base",
            "overflow": null,
            "_model_module_version": "1.2.0",
            "_view_count": null,
            "flex_flow": null,
            "width": null,
            "min_width": null,
            "border": null,
            "align_items": null,
            "bottom": null,
            "_model_module": "@jupyter-widgets/base",
            "top": null,
            "grid_column": null,
            "overflow_y": null,
            "overflow_x": null,
            "grid_auto_flow": null,
            "grid_area": null,
            "grid_template_columns": null,
            "flex": null,
            "_model_name": "LayoutModel",
            "justify_items": null,
            "grid_row": null,
            "max_height": null,
            "align_content": null,
            "visibility": null,
            "align_self": null,
            "height": null,
            "min_height": null,
            "padding": null,
            "grid_auto_rows": null,
            "grid_gap": null,
            "max_width": null,
            "order": null,
            "_view_module_version": "1.2.0",
            "grid_template_areas": null,
            "object_position": null,
            "object_fit": null,
            "grid_auto_columns": null,
            "margin": null,
            "display": null,
            "left": null
          }
        },
        "ca8cb78ae3a3448d8eedc630ada4bb91": {
          "model_module": "@jupyter-widgets/controls",
          "model_name": "ProgressStyleModel",
          "model_module_version": "1.5.0",
          "state": {
            "_view_name": "StyleView",
            "_model_name": "ProgressStyleModel",
            "description_width": "",
            "_view_module": "@jupyter-widgets/base",
            "_model_module_version": "1.5.0",
            "_view_count": null,
            "_view_module_version": "1.2.0",
            "bar_color": null,
            "_model_module": "@jupyter-widgets/controls"
          }
        },
        "e7f75f5226e64a33b44f0207334ee9c1": {
          "model_module": "@jupyter-widgets/base",
          "model_name": "LayoutModel",
          "model_module_version": "1.2.0",
          "state": {
            "_view_name": "LayoutView",
            "grid_template_rows": null,
            "right": null,
            "justify_content": null,
            "_view_module": "@jupyter-widgets/base",
            "overflow": null,
            "_model_module_version": "1.2.0",
            "_view_count": null,
            "flex_flow": null,
            "width": null,
            "min_width": null,
            "border": null,
            "align_items": null,
            "bottom": null,
            "_model_module": "@jupyter-widgets/base",
            "top": null,
            "grid_column": null,
            "overflow_y": null,
            "overflow_x": null,
            "grid_auto_flow": null,
            "grid_area": null,
            "grid_template_columns": null,
            "flex": null,
            "_model_name": "LayoutModel",
            "justify_items": null,
            "grid_row": null,
            "max_height": null,
            "align_content": null,
            "visibility": null,
            "align_self": null,
            "height": null,
            "min_height": null,
            "padding": null,
            "grid_auto_rows": null,
            "grid_gap": null,
            "max_width": null,
            "order": null,
            "_view_module_version": "1.2.0",
            "grid_template_areas": null,
            "object_position": null,
            "object_fit": null,
            "grid_auto_columns": null,
            "margin": null,
            "display": null,
            "left": null
          }
        },
        "334fdebae1c74517aa46fff1880f56de": {
          "model_module": "@jupyter-widgets/controls",
          "model_name": "DescriptionStyleModel",
          "model_module_version": "1.5.0",
          "state": {
            "_view_name": "StyleView",
            "_model_name": "DescriptionStyleModel",
            "description_width": "",
            "_view_module": "@jupyter-widgets/base",
            "_model_module_version": "1.5.0",
            "_view_count": null,
            "_view_module_version": "1.2.0",
            "_model_module": "@jupyter-widgets/controls"
          }
        },
        "dd43ddd4550a490ba939839cc2fe8e8e": {
          "model_module": "@jupyter-widgets/base",
          "model_name": "LayoutModel",
          "model_module_version": "1.2.0",
          "state": {
            "_view_name": "LayoutView",
            "grid_template_rows": null,
            "right": null,
            "justify_content": null,
            "_view_module": "@jupyter-widgets/base",
            "overflow": null,
            "_model_module_version": "1.2.0",
            "_view_count": null,
            "flex_flow": null,
            "width": null,
            "min_width": null,
            "border": null,
            "align_items": null,
            "bottom": null,
            "_model_module": "@jupyter-widgets/base",
            "top": null,
            "grid_column": null,
            "overflow_y": null,
            "overflow_x": null,
            "grid_auto_flow": null,
            "grid_area": null,
            "grid_template_columns": null,
            "flex": null,
            "_model_name": "LayoutModel",
            "justify_items": null,
            "grid_row": null,
            "max_height": null,
            "align_content": null,
            "visibility": null,
            "align_self": null,
            "height": null,
            "min_height": null,
            "padding": null,
            "grid_auto_rows": null,
            "grid_gap": null,
            "max_width": null,
            "order": null,
            "_view_module_version": "1.2.0",
            "grid_template_areas": null,
            "object_position": null,
            "object_fit": null,
            "grid_auto_columns": null,
            "margin": null,
            "display": null,
            "left": null
          }
        }
      }
    },
    "accelerator": "GPU"
  },
  "cells": [
    {
      "cell_type": "code",
      "execution_count": null,
      "metadata": {
        "id": "uppmY33DaeOV"
      },
      "outputs": [],
      "source": [
        "import os\n",
        "import gc\n",
        "import sklearn\n",
        "import numpy as np\n",
        "import pandas as pd\n",
        "import seaborn as sns\n",
        "\n",
        "from tqdm.notebook import tqdm\n",
        "from matplotlib import pyplot as plt\n",
        "from sklearn.metrics import roc_auc_score as ras\n",
        "from sklearn.model_selection import StratifiedKFold\n",
        "from sklearn.model_selection import train_test_split\n",
        "from sklearn.model_selection import GridSearchCV, RandomizedSearchCV\n",
        "\n",
        "import lightgbm as lgb\n",
        "import xgboost as xgb"
      ]
    },
    {
      "cell_type": "code",
      "source": [
        "from google.colab import drive\n",
        "drive.mount('/content/drive')"
      ],
      "metadata": {
        "colab": {
          "base_uri": "https://localhost:8080/"
        },
        "id": "JsbIQuFyG1bV",
        "outputId": "d2e12416-d0c1-4d2c-aa56-8a2ff47a38db"
      },
      "execution_count": null,
      "outputs": [
        {
          "output_type": "stream",
          "name": "stdout",
          "text": [
            "Mounted at /content/drive\n"
          ]
        }
      ]
    },
    {
      "cell_type": "code",
      "source": [
        "PATH = '/content/drive/MyDrive/SisFall_Preprocessed/'"
      ],
      "metadata": {
        "id": "4rD0gTkM1WO5"
      },
      "execution_count": null,
      "outputs": []
    },
    {
      "cell_type": "code",
      "source": [
        "users = pd.read_csv(os.path.join(PATH, 'user_details.csv'))\n",
        "feats = pd.read_csv(os.path.join(PATH, 'user_compressed_feats.csv'),)\n",
        "\n",
        "sub = pd.DataFrame(feats[['user_test', 'target']].values, columns=['user_test','target'])\n",
        "sub['target'] = sub['target'].astype(int)\n",
        "sub['prediction'] = 0\n",
        "\n",
        "print(f'Data Shape : {feats.shape}')"
      ],
      "metadata": {
        "colab": {
          "base_uri": "https://localhost:8080/"
        },
        "id": "cwsDXUc51WL0",
        "outputId": "cec61938-45f9-40fa-b3b2-7603253785f3"
      },
      "execution_count": null,
      "outputs": [
        {
          "output_type": "stream",
          "name": "stdout",
          "text": [
            "Data Shape : (4447, 29)\n"
          ]
        }
      ]
    },
    {
      "cell_type": "code",
      "source": [
        "feats['user_id'] = feats['user_test'].apply(lambda x:x.split('_')[1])\n",
        "feats = feats.merge(users, how='left', on='user_id')\n",
        "feats['gender'] = feats['gender'].map({'M':0,'F':1})\n",
        "\n",
        "use_cols = [x for x in feats.columns if x not in ['user_test','user_id','target']]"
      ],
      "metadata": {
        "id": "9b2cFy3u-gvW"
      },
      "execution_count": null,
      "outputs": []
    },
    {
      "cell_type": "code",
      "source": [
        "feats.head()"
      ],
      "metadata": {
        "colab": {
          "base_uri": "https://localhost:8080/",
          "height": 226
        },
        "id": "VJm1NNQkItLW",
        "outputId": "63950685-5dec-4013-eb5f-b0323970c12d"
      },
      "execution_count": null,
      "outputs": [
        {
          "output_type": "execute_result",
          "data": {
            "text/html": [
              "<div>\n",
              "<style scoped>\n",
              "    .dataframe tbody tr th:only-of-type {\n",
              "        vertical-align: middle;\n",
              "    }\n",
              "\n",
              "    .dataframe tbody tr th {\n",
              "        vertical-align: top;\n",
              "    }\n",
              "\n",
              "    .dataframe thead th {\n",
              "        text-align: right;\n",
              "    }\n",
              "</style>\n",
              "<table border=\"1\" class=\"dataframe\">\n",
              "  <thead>\n",
              "    <tr style=\"text-align: right;\">\n",
              "      <th></th>\n",
              "      <th>user_test</th>\n",
              "      <th>sum_C0</th>\n",
              "      <th>mean_C0</th>\n",
              "      <th>std_C0</th>\n",
              "      <th>sum_C1</th>\n",
              "      <th>mean_C1</th>\n",
              "      <th>std_C1</th>\n",
              "      <th>sum_C2</th>\n",
              "      <th>mean_C2</th>\n",
              "      <th>std_C2</th>\n",
              "      <th>sum_C3</th>\n",
              "      <th>mean_C3</th>\n",
              "      <th>std_C3</th>\n",
              "      <th>sum_C4</th>\n",
              "      <th>mean_C4</th>\n",
              "      <th>std_C4</th>\n",
              "      <th>sum_C5</th>\n",
              "      <th>mean_C5</th>\n",
              "      <th>std_C5</th>\n",
              "      <th>sum_C6</th>\n",
              "      <th>mean_C6</th>\n",
              "      <th>std_C6</th>\n",
              "      <th>sum_C7</th>\n",
              "      <th>mean_C7</th>\n",
              "      <th>std_C7</th>\n",
              "      <th>sum_C8</th>\n",
              "      <th>mean_C8</th>\n",
              "      <th>std_C8</th>\n",
              "      <th>target</th>\n",
              "      <th>user_id</th>\n",
              "      <th>age</th>\n",
              "      <th>height</th>\n",
              "      <th>weight</th>\n",
              "      <th>gender</th>\n",
              "    </tr>\n",
              "  </thead>\n",
              "  <tbody>\n",
              "    <tr>\n",
              "      <th>0</th>\n",
              "      <td>D12_SA01_R04.txt</td>\n",
              "      <td>-305202.0</td>\n",
              "      <td>-127.167500</td>\n",
              "      <td>121.615248</td>\n",
              "      <td>-397540.0</td>\n",
              "      <td>-165.641667</td>\n",
              "      <td>94.263054</td>\n",
              "      <td>2517.0</td>\n",
              "      <td>1.048750</td>\n",
              "      <td>25.960493</td>\n",
              "      <td>-68428.0</td>\n",
              "      <td>-28.511667</td>\n",
              "      <td>111.053110</td>\n",
              "      <td>60237.0</td>\n",
              "      <td>25.09875</td>\n",
              "      <td>157.082555</td>\n",
              "      <td>-11128.0</td>\n",
              "      <td>-4.636667</td>\n",
              "      <td>336.317063</td>\n",
              "      <td>-1185583.0</td>\n",
              "      <td>-493.992917</td>\n",
              "      <td>471.549925</td>\n",
              "      <td>-1537463.0</td>\n",
              "      <td>-640.609583</td>\n",
              "      <td>369.526430</td>\n",
              "      <td>314525.0</td>\n",
              "      <td>131.052083</td>\n",
              "      <td>95.799792</td>\n",
              "      <td>0</td>\n",
              "      <td>SA01</td>\n",
              "      <td>26.0</td>\n",
              "      <td>165.0</td>\n",
              "      <td>53.0</td>\n",
              "      <td>1.0</td>\n",
              "    </tr>\n",
              "    <tr>\n",
              "      <th>1</th>\n",
              "      <td>D14_SA01_R05.txt</td>\n",
              "      <td>292954.0</td>\n",
              "      <td>122.064167</td>\n",
              "      <td>121.333521</td>\n",
              "      <td>-737.0</td>\n",
              "      <td>-0.307083</td>\n",
              "      <td>31.299831</td>\n",
              "      <td>340142.0</td>\n",
              "      <td>141.725833</td>\n",
              "      <td>92.096443</td>\n",
              "      <td>-116420.0</td>\n",
              "      <td>-48.508333</td>\n",
              "      <td>149.153422</td>\n",
              "      <td>36555.0</td>\n",
              "      <td>15.23125</td>\n",
              "      <td>435.055552</td>\n",
              "      <td>8792.0</td>\n",
              "      <td>3.663333</td>\n",
              "      <td>117.404773</td>\n",
              "      <td>1128874.0</td>\n",
              "      <td>470.364167</td>\n",
              "      <td>463.540138</td>\n",
              "      <td>-6551.0</td>\n",
              "      <td>-2.729583</td>\n",
              "      <td>123.397997</td>\n",
              "      <td>1671455.0</td>\n",
              "      <td>696.439583</td>\n",
              "      <td>374.545569</td>\n",
              "      <td>0</td>\n",
              "      <td>SA01</td>\n",
              "      <td>26.0</td>\n",
              "      <td>165.0</td>\n",
              "      <td>53.0</td>\n",
              "      <td>1.0</td>\n",
              "    </tr>\n",
              "    <tr>\n",
              "      <th>2</th>\n",
              "      <td>D14_SA01_R02.txt</td>\n",
              "      <td>-258286.0</td>\n",
              "      <td>-107.619167</td>\n",
              "      <td>132.607431</td>\n",
              "      <td>-56660.0</td>\n",
              "      <td>-23.608333</td>\n",
              "      <td>23.748560</td>\n",
              "      <td>310273.0</td>\n",
              "      <td>129.280417</td>\n",
              "      <td>107.104615</td>\n",
              "      <td>-103645.0</td>\n",
              "      <td>-43.185417</td>\n",
              "      <td>155.422136</td>\n",
              "      <td>41451.0</td>\n",
              "      <td>17.27125</td>\n",
              "      <td>502.259205</td>\n",
              "      <td>-21041.0</td>\n",
              "      <td>-8.767083</td>\n",
              "      <td>149.830033</td>\n",
              "      <td>-999109.0</td>\n",
              "      <td>-416.295417</td>\n",
              "      <td>517.392270</td>\n",
              "      <td>-221131.0</td>\n",
              "      <td>-92.137917</td>\n",
              "      <td>93.802002</td>\n",
              "      <td>1568284.0</td>\n",
              "      <td>653.451667</td>\n",
              "      <td>428.172743</td>\n",
              "      <td>0</td>\n",
              "      <td>SA01</td>\n",
              "      <td>26.0</td>\n",
              "      <td>165.0</td>\n",
              "      <td>53.0</td>\n",
              "      <td>1.0</td>\n",
              "    </tr>\n",
              "    <tr>\n",
              "      <th>3</th>\n",
              "      <td>D17_SA01_R04.txt</td>\n",
              "      <td>-109386.0</td>\n",
              "      <td>-21.877200</td>\n",
              "      <td>24.578749</td>\n",
              "      <td>-1161355.0</td>\n",
              "      <td>-232.271000</td>\n",
              "      <td>18.500766</td>\n",
              "      <td>97741.0</td>\n",
              "      <td>19.548200</td>\n",
              "      <td>78.004944</td>\n",
              "      <td>-30814.0</td>\n",
              "      <td>-6.162800</td>\n",
              "      <td>268.670483</td>\n",
              "      <td>532264.0</td>\n",
              "      <td>106.45280</td>\n",
              "      <td>399.896366</td>\n",
              "      <td>-907.0</td>\n",
              "      <td>-0.181400</td>\n",
              "      <td>126.266457</td>\n",
              "      <td>-468355.0</td>\n",
              "      <td>-93.671000</td>\n",
              "      <td>94.672133</td>\n",
              "      <td>-4429972.0</td>\n",
              "      <td>-885.994400</td>\n",
              "      <td>71.284085</td>\n",
              "      <td>885057.0</td>\n",
              "      <td>177.011400</td>\n",
              "      <td>308.837236</td>\n",
              "      <td>0</td>\n",
              "      <td>SA01</td>\n",
              "      <td>26.0</td>\n",
              "      <td>165.0</td>\n",
              "      <td>53.0</td>\n",
              "      <td>1.0</td>\n",
              "    </tr>\n",
              "    <tr>\n",
              "      <th>4</th>\n",
              "      <td>F02_SA01_R04.txt</td>\n",
              "      <td>72877.0</td>\n",
              "      <td>24.292333</td>\n",
              "      <td>71.923730</td>\n",
              "      <td>-450492.0</td>\n",
              "      <td>-150.164000</td>\n",
              "      <td>177.814292</td>\n",
              "      <td>153816.0</td>\n",
              "      <td>51.272000</td>\n",
              "      <td>180.494596</td>\n",
              "      <td>163172.0</td>\n",
              "      <td>54.390667</td>\n",
              "      <td>637.437903</td>\n",
              "      <td>497076.0</td>\n",
              "      <td>165.69200</td>\n",
              "      <td>516.069290</td>\n",
              "      <td>10970.0</td>\n",
              "      <td>3.656667</td>\n",
              "      <td>330.487391</td>\n",
              "      <td>44147.0</td>\n",
              "      <td>14.715667</td>\n",
              "      <td>277.981864</td>\n",
              "      <td>-1700732.0</td>\n",
              "      <td>-566.910667</td>\n",
              "      <td>653.473849</td>\n",
              "      <td>1112249.0</td>\n",
              "      <td>370.749667</td>\n",
              "      <td>711.701931</td>\n",
              "      <td>1</td>\n",
              "      <td>SA01</td>\n",
              "      <td>26.0</td>\n",
              "      <td>165.0</td>\n",
              "      <td>53.0</td>\n",
              "      <td>1.0</td>\n",
              "    </tr>\n",
              "  </tbody>\n",
              "</table>\n",
              "</div>"
            ],
            "text/plain": [
              "          user_test    sum_C0     mean_C0  ...  height  weight  gender\n",
              "0  D12_SA01_R04.txt -305202.0 -127.167500  ...   165.0    53.0     1.0\n",
              "1  D14_SA01_R05.txt  292954.0  122.064167  ...   165.0    53.0     1.0\n",
              "2  D14_SA01_R02.txt -258286.0 -107.619167  ...   165.0    53.0     1.0\n",
              "3  D17_SA01_R04.txt -109386.0  -21.877200  ...   165.0    53.0     1.0\n",
              "4  F02_SA01_R04.txt   72877.0   24.292333  ...   165.0    53.0     1.0\n",
              "\n",
              "[5 rows x 34 columns]"
            ]
          },
          "metadata": {},
          "execution_count": 7
        }
      ]
    },
    {
      "cell_type": "code",
      "source": [
        "import seaborn as sns\n",
        "sns.distplot(feats['age'], color='red', bins=10)"
      ],
      "metadata": {
        "colab": {
          "base_uri": "https://localhost:8080/",
          "height": 351
        },
        "id": "fxtWJcjxINw9",
        "outputId": "20cf09da-ce32-4e6a-876f-190235d7be16"
      },
      "execution_count": null,
      "outputs": [
        {
          "output_type": "stream",
          "name": "stderr",
          "text": [
            "/usr/local/lib/python3.7/dist-packages/seaborn/distributions.py:2619: FutureWarning: `distplot` is a deprecated function and will be removed in a future version. Please adapt your code to use either `displot` (a figure-level function with similar flexibility) or `histplot` (an axes-level function for histograms).\n",
            "  warnings.warn(msg, FutureWarning)\n"
          ]
        },
        {
          "output_type": "execute_result",
          "data": {
            "text/plain": [
              "<matplotlib.axes._subplots.AxesSubplot at 0x7f18efd638d0>"
            ]
          },
          "metadata": {},
          "execution_count": 9
        },
        {
          "output_type": "display_data",
          "data": {
            "image/png": "[encoded data removed]",
            "text/plain": [
              "<Figure size 432x288 with 1 Axes>"
            ]
          },
          "metadata": {
            "needs_background": "light"
          }
        }
      ]
    },
    {
      "cell_type": "code",
      "source": [
        "import matplotlib.pyplot as plt\n",
        "plt.figure(figsize =(10, 7))\n",
        "sns.countplot(feats['target'])"
      ],
      "metadata": {
        "colab": {
          "base_uri": "https://localhost:8080/",
          "height": 494
        },
        "id": "JB9iYYhQPBkg",
        "outputId": "82b8968d-397b-4ed3-e27c-605d15fab4f6"
      },
      "execution_count": null,
      "outputs": [
        {
          "output_type": "stream",
          "name": "stderr",
          "text": [
            "/usr/local/lib/python3.7/dist-packages/seaborn/_decorators.py:43: FutureWarning: Pass the following variable as a keyword arg: x. From version 0.12, the only valid positional argument will be `data`, and passing other arguments without an explicit keyword will result in an error or misinterpretation.\n",
            "  FutureWarning\n"
          ]
        },
        {
          "output_type": "execute_result",
          "data": {
            "text/plain": [
              "<matplotlib.axes._subplots.AxesSubplot at 0x7f50c6b04310>"
            ]
          },
          "metadata": {},
          "execution_count": 9
        },
        {
          "output_type": "display_data",
          "data": {
            "image/png": "[encoded data removed]",
            "text/plain": [
              "<Figure size 720x504 with 1 Axes>"
            ]
          },
          "metadata": {
            "needs_background": "light"
          }
        }
      ]
    },
    {
      "cell_type": "markdown",
      "source": [
        "LightGBM"
      ],
      "metadata": {
        "id": "TwOWEuPn16U9"
      }
    },
    {
      "cell_type": "code",
      "source": [
        "init_params = {'boosting_type': 'gbdt', 'max_depth': -1, 'objective': 'binary', \n",
        "          'num_leaves': 64, 'learning_rate': 0.05, 'max_bin': 512, \n",
        "          'subsample_for_bin': 200, 'subsample': 1, 'subsample_freq': 1,\n",
        "          'colsample_bytree': 0.8, 'reg_alpha': 5, 'reg_lambda': 10, \n",
        "          'min_split_gain': 0.5, 'min_child_weight': 1, \n",
        "          'min_child_samples': 5, 'scale_pos_weight': 1, 'num_class': 1, \n",
        "          'metric': 'binary_error',\n",
        "          'verbosity':0}"
      ],
      "metadata": {
        "id": "mINPL-4e2G_M"
      },
      "execution_count": null,
      "outputs": []
    },
    {
      "cell_type": "code",
      "source": [
        "init_params = {'boosting_type': 'gbdt', 'max_depth': -1, 'objective': 'binary', \n",
        "          'num_leaves': 64, 'learning_rate': 0.05, 'max_bin': 512, \n",
        "          'subsample_for_bin': 200, 'subsample': 1, 'subsample_freq': 1,\n",
        "          'colsample_bytree': 0.8, 'reg_alpha': 5, 'reg_lambda': 10, \n",
        "          'min_split_gain': 0.5, 'min_child_weight': 1, \n",
        "          'min_child_samples': 5, 'scale_pos_weight': 1, 'num_class': 1, \n",
        "          'metric': 'binary_error',\n",
        "          'verbosity':0}\n",
        "\n",
        "grid_params = {'learning_rate': [0.01, 0.025, 0.05], 'n_estimators': [8, 24],\n",
        "               'num_leaves': [6, 8, 12, 16], 'boosting_type': ['gbdt'], \n",
        "               'objective': ['binary'],\n",
        "               'colsample_bytree': [0.65, 0.75, 0.8], \n",
        "               'subsample': [0.7, 0.75], 'reg_alpha': [1, 2, 6],\n",
        "               'reg_lambda': [1, 2, 6]}"
      ],
      "metadata": {
        "id": "BPueG-Sz_l5t"
      },
      "execution_count": null,
      "outputs": []
    },
    {
      "cell_type": "code",
      "source": [
        "N_SPLITS = 5\n",
        "folds = StratifiedKFold(n_splits=N_SPLITS)\n",
        "\n",
        "model = lgb.LGBMClassifier(**init_params)\n",
        "grid = GridSearchCV(estimator=model, param_grid=grid_params,\n",
        "                    scoring='roc_auc', n_jobs=-1,\n",
        "                    cv=folds, verbose=3)\n",
        "grid.fit(feats[use_cols], feats['target'])"
      ],
      "metadata": {
        "colab": {
          "base_uri": "https://localhost:8080/"
        },
        "id": "sq3JptBi_l3D",
        "outputId": "050bc955-f7ed-492e-f03d-b36ad09b42e4"
      },
      "execution_count": null,
      "outputs": [
        {
          "output_type": "stream",
          "name": "stdout",
          "text": [
            "Fitting 5 folds for each of 1296 candidates, totalling 6480 fits\n"
          ]
        },
        {
          "output_type": "execute_result",
          "data": {
            "text/plain": [
              "GridSearchCV(cv=StratifiedKFold(n_splits=5, random_state=None, shuffle=False),\n",
              "             estimator=LGBMClassifier(colsample_bytree=0.8, learning_rate=0.05,\n",
              "                                      max_bin=512, metric='binary_error',\n",
              "                                      min_child_samples=5, min_child_weight=1,\n",
              "                                      min_split_gain=0.5, num_class=1,\n",
              "                                      num_leaves=64, objective='binary',\n",
              "                                      reg_alpha=5, reg_lambda=10,\n",
              "                                      scale_pos_weight=1, subsample=1,\n",
              "                                      subsample_for_bin=200, subsample_freq=1,\n",
              "                                      verbosity=0),\n",
              "             n_jobs=-1,\n",
              "             param_grid={'boosting_type': ['gbdt'],\n",
              "                         'colsample_bytree': [0.65, 0.75, 0.8],\n",
              "                         'learning_rate': [0.01, 0.025, 0.05],\n",
              "                         'n_estimators': [8, 24], 'num_leaves': [6, 8, 12, 16],\n",
              "                         'objective': ['binary'], 'reg_alpha': [1, 2, 6],\n",
              "                         'reg_lambda': [1, 2, 6], 'subsample': [0.7, 0.75]},\n",
              "             scoring='roc_auc', verbose=3)"
            ]
          },
          "metadata": {},
          "execution_count": 54
        }
      ]
    },
    {
      "cell_type": "code",
      "source": [
        "best_params = {k: grid.best_params_.get(k, v) for k, v in init_params.items()}\n",
        "best_params['verbosity'] = 0\n",
        "best_params['metric'] = 'binary_error'\n",
        "best_params"
      ],
      "metadata": {
        "colab": {
          "base_uri": "https://localhost:8080/"
        },
        "id": "mnIOa4H21ToX",
        "outputId": "110fc59f-3432-41d9-a676-8a8699e811c3"
      },
      "execution_count": null,
      "outputs": [
        {
          "output_type": "execute_result",
          "data": {
            "text/plain": [
              "{'boosting_type': 'gbdt',\n",
              " 'colsample_bytree': 0.75,\n",
              " 'learning_rate': 0.05,\n",
              " 'max_bin': 512,\n",
              " 'max_depth': -1,\n",
              " 'metric': 'binary_error',\n",
              " 'min_child_samples': 5,\n",
              " 'min_child_weight': 1,\n",
              " 'min_split_gain': 0.5,\n",
              " 'num_class': 1,\n",
              " 'num_leaves': 16,\n",
              " 'objective': 'binary',\n",
              " 'reg_alpha': 1,\n",
              " 'reg_lambda': 1,\n",
              " 'scale_pos_weight': 1,\n",
              " 'subsample': 0.75,\n",
              " 'subsample_for_bin': 200,\n",
              " 'subsample_freq': 1,\n",
              " 'verbosity': 0}"
            ]
          },
          "metadata": {},
          "execution_count": 55
        }
      ]
    },
    {
      "cell_type": "code",
      "source": [
        "train_df, test_df, train_target, test_target = train_test_split(feats[use_cols],\n",
        "                                                                feats['target'],\n",
        "                                                                test_size=0.1,\n",
        "                                                                stratify=feats['target'])\n",
        "lgb_train_data = lgb.Dataset(train_df, label=train_target)\n",
        "lgb_test_data = lgb.Dataset(test_df, label=test_target)\n",
        "\n",
        "model = lgb.train(best_params, lgb_train_data, \n",
        "                    num_boost_round=10000,\n",
        "                    valid_sets = [lgb_test_data],\n",
        "                    early_stopping_rounds=100,\n",
        "                    verbose_eval=100)\n",
        "\n",
        "feat_imp = [(model.feature_importance()[i], feats[use_cols].columns[i])\n",
        "            for i in range(len(use_cols))]\n",
        "feat_imp = sorted(feat_imp, key=lambda x:x[0], reverse=True)"
      ],
      "metadata": {
        "id": "tjbbNsMoz6rQ",
        "outputId": "66af1d9e-b43f-4a4a-f888-a3403c424680",
        "colab": {
          "base_uri": "https://localhost:8080/"
        }
      },
      "execution_count": null,
      "outputs": [
        {
          "output_type": "stream",
          "name": "stdout",
          "text": [
            "Training until validation scores don't improve for 100 rounds.\n",
            "[100]\tvalid_0's binary_error: 0.00224719\n",
            "Early stopping, best iteration is:\n",
            "[42]\tvalid_0's binary_error: 0.00224719\n"
          ]
        }
      ]
    },
    {
      "cell_type": "code",
      "source": [
        "kfeat = 2\n",
        "use_feat_imp = [fi for fi in feat_imp][:kfeat]\n",
        "print(f'Features Using : {use_feat_imp}')\n",
        "use_feat_imp = [fi[-1] for fi in feat_imp][:kfeat]"
      ],
      "metadata": {
        "id": "KnK0S7bE0yPV",
        "outputId": "b48f698f-fe33-4246-a5db-36767b51fcb8",
        "colab": {
          "base_uri": "https://localhost:8080/"
        }
      },
      "execution_count": null,
      "outputs": [
        {
          "output_type": "stream",
          "name": "stdout",
          "text": [
            "Features Using : [(59, 'std_C2'), (54, 'mean_C1')]\n"
          ]
        }
      ]
    },
    {
      "cell_type": "code",
      "source": [
        "score = []\n",
        "for fold, (trn_idx, val_idx) in tqdm(enumerate(folds.split(feats, feats['target'])),total=5):\n",
        "  print(f'Training on fold : {fold+1}')\n",
        "  train_df, test_df = feats[use_feat_imp].iloc[trn_idx], feats[use_feat_imp].iloc[val_idx]\n",
        "  train_target, test_target = feats['target'].iloc[trn_idx], feats['target'].iloc[val_idx]\n",
        "  \n",
        "  lgb_train_data = lgb.Dataset(train_df, label=train_target)\n",
        "  lgb_test_data = lgb.Dataset(test_df, label=test_target)\n",
        "\n",
        "  model = lgb.train(best_params, lgb_train_data, \n",
        "                    num_boost_round=50000,\n",
        "                    valid_sets = [lgb_test_data],\n",
        "                    early_stopping_rounds=1000,\n",
        "                    verbose_eval=0)\n",
        "  val_preds = model.predict(test_df, num_iteration=model.best_iteration)/N_SPLITS\n",
        "  sub.loc[sub.index.isin(val_idx), 'prediction'] += val_preds\n",
        "  score.append(ras(test_target, val_preds))\n",
        "  print(f'fold {fold}, Validation Predicition ROC-AUC : {score[-1]}')\n",
        "  print('==============================================')\n",
        "\n",
        "oof_score = sum(score)/N_SPLITS\n",
        "print(f'OOF ROC-AUC Score : {oof_score}')"
      ],
      "metadata": {
        "colab": {
          "base_uri": "https://localhost:8080/",
          "height": 326,
          "referenced_widgets": [
            "2cc324c6e148416fad4ccf084c04a931",
            "3ef2efac903c4bb284e8a4a079250436",
            "1c5a116d80b240b5866c4ffa0c665346",
            "e716142a3ffd40458a928903845aeff8",
            "3722e601357745999b7290ee1a94a8eb",
            "dba549b75e964db6894de21e7bd9f1cf",
            "029b3426fde648d9bb5c63e7c428ff0e",
            "a3334ea237a14d3b95ca3d1e655247aa",
            "35a7bdb8dd6e4b9e8fa5366813377686",
            "d5271dd003954017b5e98f0477d37449",
            "dc68820184554be0b1445d1336028aee"
          ]
        },
        "id": "9eeOLrf2uJHF",
        "outputId": "e7815b04-8b24-4579-e5ec-8bede9383bd1"
      },
      "execution_count": null,
      "outputs": [
        {
          "output_type": "display_data",
          "data": {
            "application/vnd.jupyter.widget-view+json": {
              "model_id": "2cc324c6e148416fad4ccf084c04a931",
              "version_minor": 0,
              "version_major": 2
            },
            "text/plain": [
              "  0%|          | 0/5 [00:00<?, ?it/s]"
            ]
          },
          "metadata": {}
        },
        {
          "output_type": "stream",
          "name": "stdout",
          "text": [
            "Training on fold : 1\n",
            "fold 0, Validation Predicition ROC-AUC : 0.9831787211740042\n",
            "==============================================\n",
            "Training on fold : 2\n",
            "fold 1, Validation Predicition ROC-AUC : 0.9802358490566037\n",
            "==============================================\n",
            "Training on fold : 3\n",
            "fold 2, Validation Predicition ROC-AUC : 0.9634992379250539\n",
            "==============================================\n",
            "Training on fold : 4\n",
            "fold 3, Validation Predicition ROC-AUC : 0.9684658642981028\n",
            "==============================================\n",
            "Training on fold : 5\n",
            "fold 4, Validation Predicition ROC-AUC : 0.9439928586431421\n",
            "==============================================\n",
            "OOF ROC-AUC Score : 0.9678745062193814\n"
          ]
        }
      ]
    },
    {
      "cell_type": "code",
      "source": [
        "lgb_res=oof_score"
      ],
      "metadata": {
        "id": "YLQVRZjFfYP_"
      },
      "execution_count": null,
      "outputs": []
    },
    {
      "cell_type": "code",
      "source": [
        "lgb_res"
      ],
      "metadata": {
        "colab": {
          "base_uri": "https://localhost:8080/"
        },
        "id": "e8d4lyC5gDyR",
        "outputId": "b86d5025-8d78-40fa-9176-754061a14452"
      },
      "execution_count": null,
      "outputs": [
        {
          "output_type": "execute_result",
          "data": {
            "text/plain": [
              "0.9678745062193814"
            ]
          },
          "metadata": {},
          "execution_count": 60
        }
      ]
    },
    {
      "cell_type": "code",
      "source": [
        "sub.to_csv(os.path.join(PATH, 'sub_lgb.csv'), index=False)"
      ],
      "metadata": {
        "id": "dzhXBQ2zKuA2"
      },
      "execution_count": null,
      "outputs": []
    },
    {
      "cell_type": "markdown",
      "source": [
        "XGBoost"
      ],
      "metadata": {
        "id": "u1PAP4IiVgYV"
      }
    },
    {
      "cell_type": "code",
      "source": [
        "init_params = {'colsample_bytree': 0.2,\n",
        "              'eval_metric': 'auc',\n",
        "              'learning_rate': 0.25,\n",
        "              'max_depth': 7,\n",
        "              'n_estimators': 50,\n",
        "              'objective': 'reg:logistic',\n",
        "              'tree_method':\"gpu_hist\",\n",
        "              'eval_metric': ['auc'],}\n",
        "\n",
        "grid_params = {\n",
        "            'n_estimators': [100, 150, 200],\n",
        "            'learning_rate': [0.01, 0.025, 0.05],\n",
        "            'max_depth': range(7,11),\n",
        "            'colsample_bytree': [i/10.0 for i in range(1, 3)],\n",
        "            'eval_metric': ['auc'],\n",
        "            'objective':['reg:logistic'],\n",
        "            'tree_method':[\"gpu_hist\"]\n",
        "          }"
      ],
      "metadata": {
        "id": "ci71hu1ZIKnO"
      },
      "execution_count": null,
      "outputs": []
    },
    {
      "cell_type": "code",
      "source": [
        "N_SPLITS = 5\n",
        "folds = StratifiedKFold(n_splits=N_SPLITS)\n",
        "\n",
        "model2 = xgb.XGBClassifier(**init_params)\n",
        "grid = GridSearchCV(estimator=model2, param_grid=grid_params,\n",
        "                    scoring='roc_auc', n_jobs=-1,\n",
        "                    cv=folds, verbose=3)\n",
        "grid.fit(feats[use_cols], feats['target'])"
      ],
      "metadata": {
        "colab": {
          "base_uri": "https://localhost:8080/"
        },
        "id": "t7ups5zjVjl1",
        "outputId": "9b272266-dcd3-47d2-b2c7-11eea6a8552e"
      },
      "execution_count": null,
      "outputs": [
        {
          "output_type": "stream",
          "name": "stdout",
          "text": [
            "Fitting 5 folds for each of 72 candidates, totalling 360 fits\n"
          ]
        },
        {
          "output_type": "execute_result",
          "data": {
            "text/plain": [
              "GridSearchCV(cv=StratifiedKFold(n_splits=5, random_state=None, shuffle=False),\n",
              "             estimator=XGBClassifier(colsample_bytree=0.2, eval_metric=['auc'],\n",
              "                                     learning_rate=0.25, max_depth=7,\n",
              "                                     n_estimators=50, objective='reg:logistic',\n",
              "                                     tree_method='gpu_hist'),\n",
              "             n_jobs=-1,\n",
              "             param_grid={'colsample_bytree': [0.1, 0.2], 'eval_metric': ['auc'],\n",
              "                         'learning_rate': [0.01, 0.025, 0.05],\n",
              "                         'max_depth': range(7, 11),\n",
              "                         'n_estimators': [100, 150, 200],\n",
              "                         'objective': ['reg:logistic'],\n",
              "                         'tree_method': ['gpu_hist']},\n",
              "             scoring='roc_auc', verbose=3)"
            ]
          },
          "metadata": {},
          "execution_count": 22
        }
      ]
    },
    {
      "cell_type": "code",
      "source": [
        "best_params = {k: grid.best_params_.get(k, v) for k, v in init_params.items()}\n",
        "best_params['verbosity'] = 3\n",
        "best_params['objective'] = 'reg:logistic'\n",
        "best_params['tree_method'] = \"gpu_hist\"\n",
        "best_params"
      ],
      "metadata": {
        "colab": {
          "base_uri": "https://localhost:8080/"
        },
        "id": "sBtr7lj8VsvM",
        "outputId": "d9b3e0c2-ec29-4f07-d02f-da784839bfb6"
      },
      "execution_count": null,
      "outputs": [
        {
          "output_type": "execute_result",
          "data": {
            "text/plain": [
              "{'colsample_bytree': 0.2,\n",
              " 'eval_metric': 'auc',\n",
              " 'learning_rate': 0.05,\n",
              " 'max_depth': 10,\n",
              " 'n_estimators': 200,\n",
              " 'objective': 'reg:logistic',\n",
              " 'tree_method': 'gpu_hist',\n",
              " 'verbosity': 3}"
            ]
          },
          "metadata": {},
          "execution_count": 23
        }
      ]
    },
    {
      "cell_type": "code",
      "source": [
        "train_df, test_df, train_target, test_target = train_test_split(feats[use_cols],\n",
        "                                                                feats['target'],\n",
        "                                                                test_size=0.1,\n",
        "                                                                stratify=feats['target'])\n",
        "xgb_train = xgb.DMatrix(train_df, label=train_target)\n",
        "xgb_val = xgb.DMatrix(test_df, label=test_target)\n",
        "watchlist = [(xgb_train, 'train'), (xgb_val, 'valid')]\n",
        "\n",
        "model2 = xgb.XGBClassifier(**best_params)\n",
        "model2.fit(train_df, train_target)"
      ],
      "metadata": {
        "colab": {
          "base_uri": "https://localhost:8080/"
        },
        "id": "OOYwncdDVuNf",
        "outputId": "692ce1d6-7df7-4670-f260-3519f06c1915"
      },
      "execution_count": null,
      "outputs": [
        {
          "output_type": "execute_result",
          "data": {
            "text/plain": [
              "XGBClassifier(colsample_bytree=0.2, eval_metric='auc', learning_rate=0.05,\n",
              "              max_depth=10, n_estimators=200, objective='reg:logistic',\n",
              "              tree_method='gpu_hist', verbosity=3)"
            ]
          },
          "metadata": {},
          "execution_count": 24
        }
      ]
    },
    {
      "cell_type": "code",
      "source": [
        "model2.feature_importances_"
      ],
      "metadata": {
        "colab": {
          "base_uri": "https://localhost:8080/"
        },
        "id": "ocKncmNhV4TK",
        "outputId": "f578acf7-f5f2-483b-dd06-b76b13bcc00a"
      },
      "execution_count": null,
      "outputs": [
        {
          "output_type": "execute_result",
          "data": {
            "text/plain": [
              "array([0.01085426, 0.01169915, 0.0157908 , 0.04023907, 0.15338218,\n",
              "       0.08877774, 0.02227811, 0.01220832, 0.02095027, 0.01106202,\n",
              "       0.03166167, 0.0165216 , 0.01266714, 0.01264448, 0.023622  ,\n",
              "       0.04276654, 0.02802892, 0.0097232 , 0.02910645, 0.00989271,\n",
              "       0.01070854, 0.04285593, 0.14773916, 0.08851373, 0.02093325,\n",
              "       0.01344183, 0.04018358, 0.02318224, 0.00323197, 0.00282346,\n",
              "       0.00250961], dtype=float32)"
            ]
          },
          "metadata": {},
          "execution_count": 25
        }
      ]
    },
    {
      "cell_type": "code",
      "source": [
        "feat_imp = [(model2.feature_importances_[i], feats[use_cols].columns[i])\n",
        "            for i in range(len(use_cols))]\n",
        "feat_imp = sorted(feat_imp, key=lambda x:x[0], reverse=True)\n",
        "feat_imp"
      ],
      "metadata": {
        "colab": {
          "base_uri": "https://localhost:8080/"
        },
        "id": "O1YAeZqnV463",
        "outputId": "815d5d26-86d7-48b2-8360-f9ab5c139938"
      },
      "execution_count": null,
      "outputs": [
        {
          "output_type": "execute_result",
          "data": {
            "text/plain": [
              "[(0.15338218, 'mean_C1'),\n",
              " (0.14773916, 'mean_C7'),\n",
              " (0.088777736, 'std_C1'),\n",
              " (0.08851373, 'std_C7'),\n",
              " (0.042855933, 'sum_C7'),\n",
              " (0.04276654, 'sum_C5'),\n",
              " (0.040239073, 'sum_C1'),\n",
              " (0.040183578, 'std_C8'),\n",
              " (0.031661674, 'mean_C3'),\n",
              " (0.02910645, 'sum_C6'),\n",
              " (0.028028918, 'mean_C5'),\n",
              " (0.023622002, 'std_C4'),\n",
              " (0.023182245, 'age'),\n",
              " (0.02227811, 'sum_C2'),\n",
              " (0.020950275, 'std_C2'),\n",
              " (0.020933246, 'sum_C8'),\n",
              " (0.016521597, 'std_C3'),\n",
              " (0.015790798, 'std_C0'),\n",
              " (0.013441826, 'mean_C8'),\n",
              " (0.012667144, 'sum_C4'),\n",
              " (0.012644482, 'mean_C4'),\n",
              " (0.0122083165, 'mean_C2'),\n",
              " (0.011699151, 'mean_C0'),\n",
              " (0.011062024, 'sum_C3'),\n",
              " (0.010854258, 'sum_C0'),\n",
              " (0.010708542, 'std_C6'),\n",
              " (0.009892712, 'mean_C6'),\n",
              " (0.009723203, 'std_C5'),\n",
              " (0.0032319685, 'height'),\n",
              " (0.0028234595, 'weight'),\n",
              " (0.0025096093, 'gender')]"
            ]
          },
          "metadata": {},
          "execution_count": 26
        }
      ]
    },
    {
      "cell_type": "code",
      "source": [
        "kfeat = 3\n",
        "use_feat_imp = [fi for fi in feat_imp][:kfeat]\n",
        "use_feat_imp = [fi[-1] for fi in feat_imp][:kfeat]\n",
        "print(f'Features Using : {use_feat_imp}')"
      ],
      "metadata": {
        "colab": {
          "base_uri": "https://localhost:8080/"
        },
        "id": "G0Sn45JZV9Zs",
        "outputId": "4e39d419-96f5-4bb1-ed6e-4b9b7ded2246"
      },
      "execution_count": null,
      "outputs": [
        {
          "output_type": "stream",
          "name": "stdout",
          "text": [
            "Features Using : ['mean_C1', 'mean_C7', 'std_C1']\n"
          ]
        }
      ]
    },
    {
      "cell_type": "code",
      "source": [
        "model2.get_booster().best_iteration"
      ],
      "metadata": {
        "colab": {
          "base_uri": "https://localhost:8080/"
        },
        "id": "kuuXjoS1WC4x",
        "outputId": "cdbea392-6c12-4bae-bdfc-dd64b1057ac2"
      },
      "execution_count": null,
      "outputs": [
        {
          "output_type": "execute_result",
          "data": {
            "text/plain": [
              "199"
            ]
          },
          "metadata": {},
          "execution_count": 28
        }
      ]
    },
    {
      "cell_type": "code",
      "source": [
        "for fold, (trn_idx, val_idx) in tqdm(enumerate(folds.split(feats, feats['target'])),total=N_SPLITS):\n",
        "  train_df, test_df = feats[use_feat_imp].iloc[trn_idx], feats[use_feat_imp].iloc[val_idx]\n",
        "  train_target, test_target = feats['target'].iloc[trn_idx], feats['target'].iloc[val_idx]\n",
        "  \n",
        "  xgb_train = xgb.DMatrix(train_df, label = train_target)\n",
        "  xgb_val = xgb.DMatrix(test_df, label = test_target)\n",
        "  watchlist = [(xgb_train, 'train'), (xgb_val, 'valid')]\n",
        "\n",
        "  model2 = xgb.train(best_params,xgb_train,\n",
        "                    10000,watchlist,early_stopping_rounds=500,\n",
        "                    maximize=True,\n",
        "                    verbose_eval=100)\n",
        "  \n",
        "  val_preds = model2.predict(xgb_val)\n",
        "  sub.loc[sub.index.isin(val_idx), 'prediction'] += val_preds/N_SPLITS\n",
        "  print(f'fold {fold}, Validation Predicition ROC-AUC : {round(ras(test_target, val_preds))}')\n",
        "  print('==============================================')\n",
        "\n",
        "oof_score2 = ras(sub['target'], sub['prediction'])\n",
        "print(f'OOF ROC-AUC Score : {(oof_score2)}')"
      ],
      "metadata": {
        "colab": {
          "base_uri": "https://localhost:8080/",
          "height": 1000,
          "referenced_widgets": [
            "32b5640e9ac644f5a100c572eb3fa3bf",
            "01b0e561087646749cec4d29a5e4abbd",
            "b18efee933284deeaaca3e5bd38d9cc0",
            "56fac572724b4f89997337a94d39c7a9",
            "fa4aa6cea9ff40ac8d85634b654029ba",
            "983210f0cd844b22a8c3e0db852e9d4e",
            "56a185c50ee9479ebe9fa7ace8ba73cd",
            "ca8cb78ae3a3448d8eedc630ada4bb91",
            "e7f75f5226e64a33b44f0207334ee9c1",
            "334fdebae1c74517aa46fff1880f56de",
            "dd43ddd4550a490ba939839cc2fe8e8e"
          ]
        },
        "id": "v8r1JE2rWFyp",
        "outputId": "9168cc83-35ed-4046-c59e-0368d703049f"
      },
      "execution_count": null,
      "outputs": [
        {
          "output_type": "display_data",
          "data": {
            "application/vnd.jupyter.widget-view+json": {
              "model_id": "32b5640e9ac644f5a100c572eb3fa3bf",
              "version_minor": 0,
              "version_major": 2
            },
            "text/plain": [
              "  0%|          | 0/5 [00:00<?, ?it/s]"
            ]
          },
          "metadata": {}
        },
        {
          "output_type": "stream",
          "name": "stdout",
          "text": [
            "[0]\ttrain-auc:0.958092\tvalid-auc:0.96391\n",
            "Multiple eval metrics have been passed: 'valid-auc' will be used for early stopping.\n",
            "\n",
            "Will train until valid-auc hasn't improved in 500 rounds.\n",
            "[100]\ttrain-auc:0.987769\tvalid-auc:0.978436\n",
            "[200]\ttrain-auc:0.991472\tvalid-auc:0.977783\n",
            "[300]\ttrain-auc:0.992713\tvalid-auc:0.976284\n",
            "[400]\ttrain-auc:0.993276\tvalid-auc:0.975236\n",
            "[500]\ttrain-auc:0.993715\tvalid-auc:0.974523\n",
            "Stopping. Best iteration:\n",
            "[70]\ttrain-auc:0.985664\tvalid-auc:0.979002\n",
            "\n",
            "fold 0, Validation Predicition ROC-AUC : 1\n",
            "==============================================\n",
            "[0]\ttrain-auc:0.958638\tvalid-auc:0.975684\n",
            "Multiple eval metrics have been passed: 'valid-auc' will be used for early stopping.\n",
            "\n",
            "Will train until valid-auc hasn't improved in 500 rounds.\n",
            "[100]\ttrain-auc:0.986302\tvalid-auc:0.988771\n",
            "[200]\ttrain-auc:0.989932\tvalid-auc:0.988601\n",
            "[300]\ttrain-auc:0.991255\tvalid-auc:0.98858\n",
            "[400]\ttrain-auc:0.991957\tvalid-auc:0.988532\n",
            "[500]\ttrain-auc:0.992397\tvalid-auc:0.988139\n",
            "Stopping. Best iteration:\n",
            "[36]\ttrain-auc:0.980633\tvalid-auc:0.989465\n",
            "\n",
            "fold 1, Validation Predicition ROC-AUC : 1\n",
            "==============================================\n",
            "[0]\ttrain-auc:0.960965\tvalid-auc:0.950502\n",
            "Multiple eval metrics have been passed: 'valid-auc' will be used for early stopping.\n",
            "\n",
            "Will train until valid-auc hasn't improved in 500 rounds.\n",
            "[100]\ttrain-auc:0.986995\tvalid-auc:0.979942\n",
            "[200]\ttrain-auc:0.990502\tvalid-auc:0.981016\n",
            "[300]\ttrain-auc:0.991748\tvalid-auc:0.980833\n",
            "[400]\ttrain-auc:0.992344\tvalid-auc:0.980275\n",
            "[500]\ttrain-auc:0.992786\tvalid-auc:0.979755\n",
            "[600]\ttrain-auc:0.993084\tvalid-auc:0.979456\n",
            "Stopping. Best iteration:\n",
            "[199]\ttrain-auc:0.990472\tvalid-auc:0.981053\n",
            "\n",
            "fold 2, Validation Predicition ROC-AUC : 1\n",
            "==============================================\n",
            "[0]\ttrain-auc:0.961308\tvalid-auc:0.955863\n",
            "Multiple eval metrics have been passed: 'valid-auc' will be used for early stopping.\n",
            "\n",
            "Will train until valid-auc hasn't improved in 500 rounds.\n",
            "[100]\ttrain-auc:0.987927\tvalid-auc:0.976804\n",
            "[200]\ttrain-auc:0.991261\tvalid-auc:0.976181\n",
            "[300]\ttrain-auc:0.992462\tvalid-auc:0.97512\n",
            "[400]\ttrain-auc:0.993079\tvalid-auc:0.974347\n",
            "[500]\ttrain-auc:0.993496\tvalid-auc:0.973937\n",
            "Stopping. Best iteration:\n",
            "[41]\ttrain-auc:0.9828\tvalid-auc:0.978226\n",
            "\n",
            "fold 3, Validation Predicition ROC-AUC : 1\n",
            "==============================================\n",
            "[0]\ttrain-auc:0.970533\tvalid-auc:0.915325\n",
            "Multiple eval metrics have been passed: 'valid-auc' will be used for early stopping.\n",
            "\n",
            "Will train until valid-auc hasn't improved in 500 rounds.\n",
            "[100]\ttrain-auc:0.991565\tvalid-auc:0.947721\n",
            "[200]\ttrain-auc:0.994321\tvalid-auc:0.946676\n",
            "[300]\ttrain-auc:0.995293\tvalid-auc:0.944542\n",
            "[400]\ttrain-auc:0.995783\tvalid-auc:0.943507\n",
            "[500]\ttrain-auc:0.996123\tvalid-auc:0.94284\n",
            "[600]\ttrain-auc:0.9964\tvalid-auc:0.942362\n",
            "Stopping. Best iteration:\n",
            "[119]\ttrain-auc:0.992339\tvalid-auc:0.948989\n",
            "\n",
            "fold 4, Validation Predicition ROC-AUC : 1\n",
            "==============================================\n",
            "OOF ROC-AUC Score : 0.9764534311224544\n"
          ]
        }
      ]
    },
    {
      "cell_type": "code",
      "source": [
        "xgb_res=np.mean([0.979002,0.989465, 0.981053, 0.978226, 0.948989])\n",
        "xgb_res"
      ],
      "metadata": {
        "id": "wd10rUl8WQvZ"
      },
      "execution_count": null,
      "outputs": []
    },
    {
      "cell_type": "code",
      "source": [
        "sub.to_csv(os.path.join(PATH, 'sub_xgb.csv'), index=False)"
      ],
      "metadata": {
        "id": "IGdx0THbWRch"
      },
      "execution_count": null,
      "outputs": []
    },
    {
      "cell_type": "code",
      "source": [
        "accuracy_scores=[lgb_res,xgb_res]"
      ],
      "metadata": {
        "id": "LYtL8PqKafk7"
      },
      "execution_count": null,
      "outputs": []
    },
    {
      "cell_type": "code",
      "source": [
        "accuracy_scores"
      ],
      "metadata": {
        "colab": {
          "base_uri": "https://localhost:8080/"
        },
        "id": "R7dsikcwe6wV",
        "outputId": "9a0dab32-426f-4432-ab2f-69ea0a1c5306"
      },
      "execution_count": null,
      "outputs": [
        {
          "output_type": "execute_result",
          "data": {
            "text/plain": [
              "[0.9678745062193814, 0.975347]"
            ]
          },
          "metadata": {},
          "execution_count": 62
        }
      ]
    },
    {
      "cell_type": "code",
      "source": [
        "from matplotlib import cm\n",
        "colors = cm.rainbow(np.linspace(0, 1, 5))\n",
        "labels = ['LGB', 'XGB']\n",
        "\n",
        "plt.bar(labels,\n",
        "        accuracy_scores,\n",
        "        color = colors)\n",
        "plt.ylim((0.9,1))\n",
        "plt.xlabel('Classifiers')\n",
        "plt.ylabel('Accuracy')\n",
        "plt.title('ROC_AUC Score of LGB and XGB Algorithms')"
      ],
      "metadata": {
        "colab": {
          "base_uri": "https://localhost:8080/",
          "height": 312
        },
        "id": "eyY8CAL2addW",
        "outputId": "6505e29f-be93-4544-bc50-7ac300a57046"
      },
      "execution_count": null,
      "outputs": [
        {
          "output_type": "execute_result",
          "data": {
            "text/plain": [
              "Text(0.5, 1.0, 'ROC_AUC Score of LGB and XGB Algorithms')"
            ]
          },
          "metadata": {},
          "execution_count": 66
        },
        {
          "output_type": "display_data",
          "data": {
            "image/png": "[encoded data removed]",
            "text/plain": [
              "<Figure size 432x288 with 1 Axes>"
            ]
          },
          "metadata": {
            "needs_background": "light"
          }
        }
      ]
    },
    {
      "cell_type": "code",
      "source": [
        "names=['LGB','XGB']\n",
        "fig = plt.figure(figsize=(8,8))\n",
        "fig.suptitle('Algorithm Comparison')\n",
        "ax = fig.add_subplot(111)\n",
        "plt.boxplot(accuracy_scores,showfliers=False)\n",
        "ax.set_xticklabels(names)\n",
        "plt.show()"
      ],
      "metadata": {
        "colab": {
          "base_uri": "https://localhost:8080/",
          "height": 540
        },
        "id": "3BSZbbSgbB8c",
        "outputId": "dc67b101-22c5-4388-a2c8-5260a338f01c"
      },
      "execution_count": null,
      "outputs": [
        {
          "output_type": "display_data",
          "data": {
            "image/png": "[encoded data removed]",
            "text/plain": [
              "<Figure size 576x576 with 1 Axes>"
            ]
          },
          "metadata": {
            "needs_background": "light"
          }
        }
      ]
    },
    {
      "cell_type": "code",
      "source": [
        ""
      ],
      "metadata": {
        "id": "tPxs44bfatta"
      },
      "execution_count": null,
      "outputs": []
    }
  ]
}